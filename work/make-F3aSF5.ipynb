{
 "cells": [
  {
   "cell_type": "code",
   "execution_count": null,
   "metadata": {},
   "outputs": [],
   "source": [
    "%matplotlib inline\n",
    "\n",
    "import math\n",
    "import matplotlib\n",
    "import matplotlib.pyplot as plt\n",
    "import matplotlib.lines as ml\n",
    "import pandas\n",
    "import random\n",
    "import seaborn\n",
    "\n",
    "matplotlib.rcParams['axes.labelsize'] = 16\n",
    "matplotlib.rcParams['xtick.labelsize'] = 12\n",
    "matplotlib.rcParams['ytick.labelsize'] = 12\n",
    "matplotlib.rcParams['savefig.dpi'] = 300\n",
    "seaborn.set_context({\"figure.figsize\": (15, 10)})"
   ]
  },
  {
   "cell_type": "code",
   "execution_count": null,
   "metadata": {},
   "outputs": [],
   "source": [
    "def calc_rho(species, basedir='data'):\n",
    "    \"\"\"\n",
    "    Calculate \\rho, the proportion of iiLocus length to giLocus length, for a particular genome.\n",
    "    \"\"\"\n",
    "    files = ['{}/{}/{}.iloci.tsv'.format(basedir, s, s) for s in species]\n",
    "    data = pandas.concat([pandas.read_table(f) for f in files])\n",
    "    giloci = data.loc[data.LocusClass.isin(['siLocus', 'ciLocus', 'niLocus'])]\n",
    "    iiloci = data.loc[data.LocusClass.isin(['iiLocus'])]\n",
    "    quant = list(giloci['Length'].quantile([0.05, 0.95]))\n",
    "    giloci_q = giloci.loc[(giloci.Length >= quant[0]) & (giloci.Length <= quant[1])]\n",
    "    quant = list(iiloci['Length'].quantile([0.05, 0.95]))\n",
    "    iiloci_q = iiloci.loc[(iiloci.Length >= quant[0]) & (iiloci.Length <= quant[1])]\n",
    "    rho = iiloci_q['Length'].mean() / giloci_q['Length'].mean()\n",
    "    return rho"
   ]
  },
  {
   "cell_type": "markdown",
   "metadata": {},
   "source": [
    "## Genome compactness in theory\n",
    "\n",
    "If the average iiLocus length is ρ-times the average giLocus length, then the relationship between φ and σ is given by $\\sigma = \\frac{\\phi}{1 + 1(1-\\phi)\\rho}$.\n",
    "Below we show (φ, σ) curves with ρ equal to 0.1, 1, 2, 4, and 8."
   ]
  },
  {
   "cell_type": "code",
   "execution_count": null,
   "metadata": {},
   "outputs": [],
   "source": [
    "x = [i / 1000 for i in range(1000)]\n",
    "colors = seaborn.color_palette(\"hls\", 5)\n",
    "plots = list()\n",
    "rhos = [0.1, 1, 2, 4, 8]\n",
    "labels = ['ρ = {}'.format(num) for num in rhos]\n",
    "for j, rho in enumerate(rhos):\n",
    "    y = [(i/(1+(1-i)*rho)) for i in x]\n",
    "    theplot = ml.Line2D(x, y, color=colors[j], label=labels[j])\n",
    "    _ = plt.plot(x, y, color=colors[j], label=labels[j])\n",
    "    plots.append(theplot)\n",
    "plt.xlabel('φ (Proportion of giLoci merged into miLoci)')\n",
    "plt.ylabel('σ (Proportion of sequence occupied by miLoci)')\n",
    "plt.legend(plots, labels,\n",
    "               loc='upper left', ncol=1, fontsize=14)\n",
    "plt.show()"
   ]
  },
  {
   "cell_type": "markdown",
   "metadata": {},
   "source": [
    "## Empirical genome compactness\n",
    "\n",
    "Now let's look at empirical (φ, σ) values calculated on chromosome/scaffold sequences from 10 reference genomes."
   ]
  },
  {
   "cell_type": "code",
   "execution_count": null,
   "metadata": {},
   "outputs": [],
   "source": [
    "data = pandas.read_csv('tables/phisigma-refr.tsv',sep='\\t')\n",
    "speciesnames = ['Saccharomyces cerevisiae', 'Caenorhabditis elegans',\n",
    "                'Chlamydomonas reinhardtii', 'Medicago truncatula',\n",
    "                'Drosophila melanogaster', 'Anopheles gambiae',\n",
    "                'Xenopus tropicalis', 'Danio rerio',\n",
    "                'Mus musculus', 'Homo sapiens']\n",
    "specieslist = ['Scer', 'Cele', 'Crei', 'Mtru', 'Dmel',\n",
    "               'Agam', 'Xtro', 'Drer', 'Mmus', 'Hsap']\n",
    "\n",
    "plots = list()\n",
    "palette = seaborn.color_palette(\"hls\", len(specieslist))\n",
    "for i, species in enumerate(specieslist):\n",
    "    specdata = data.loc[(data.Species == species)]\n",
    "    plot = plt.scatter(specdata['Phi'], specdata['Sigma'], color=palette[i])\n",
    "    plots.append(plot)\n",
    "_ = plt.xlim(-0.02, 1.02)\n",
    "_ = plt.ylim(-0.02, 1.02)\n",
    "_ = plt.xlabel('φ (Proportion of giLoci merged into miLoci)')\n",
    "_ = plt.ylabel('σ (Proportion of sequence occupied by miLoci)')\n",
    "_ = plt.legend(plots, speciesnames, scatterpoints=1,\n",
    "           loc='upper left',\n",
    "           ncol=2,\n",
    "           fontsize=12)\n",
    "_ = plt.show()"
   ]
  },
  {
   "cell_type": "markdown",
   "metadata": {},
   "source": [
    "Now let's put it together."
   ]
  },
  {
   "cell_type": "code",
   "execution_count": null,
   "metadata": {},
   "outputs": [],
   "source": [
    "data = pandas.read_csv('tables/phisigma-refr.tsv',sep='\\t')\n",
    "speciesnames = ['Saccharomyces cerevisiae', 'Caenorhabditis elegans',\n",
    "                'Chlamydomonas reinhardtii', 'Medicago truncatula',\n",
    "                'Drosophila melanogaster', 'Anopheles gambiae',\n",
    "                'Xenopus tropicalis', 'Danio rerio',\n",
    "                'Mus musculus', 'Homo sapiens']\n",
    "specieslist = ['Scer', 'Cele', 'Crei', 'Mtru', 'Dmel',\n",
    "               'Agam', 'Xtro', 'Drer', 'Mmus', 'Hsap']\n",
    "\n",
    "rhos = [0.1, 1, 2, 4, 8]\n",
    "for j, rho in enumerate(rhos):\n",
    "    y = [(i/(1+(1-i)*rho)) for i in x]\n",
    "    _ = plt.plot(x, y, color='#cc6666', alpha=0.2)\n",
    "\n",
    "plots = list()\n",
    "palette = seaborn.color_palette(\"hls\", len(specieslist))\n",
    "for i, species in enumerate(specieslist):\n",
    "    specdata = data.loc[(data.Species == species)]\n",
    "    plot = plt.scatter(specdata['Phi'], specdata['Sigma'], color=palette[i])\n",
    "    plots.append(plot)\n",
    "\n",
    "_ = plt.xlim(-0.02, 1.02)\n",
    "_ = plt.ylim(-0.02, 1.02)\n",
    "_ = plt.xlabel('φ (Proportion of giLoci merged into miLoci)')\n",
    "_ = plt.ylabel('σ (Proportion of sequence occupied by miLoci)')\n",
    "_ = plt.legend(plots, speciesnames, scatterpoints=1,\n",
    "           loc='upper left',\n",
    "           ncol=2,\n",
    "           fontsize=12)\n",
    "plt.savefig('figures/LSB20GB-Fig3a.png')"
   ]
  },
  {
   "cell_type": "markdown",
   "metadata": {},
   "source": [
    "## Different values of δ\n",
    "\n",
    "To evaluate the robustness of the (φ, σ) measures with respect to the δ (delta) parameter, we recomputed iLoci at δ=300 and δ=750 for comparison with the default δ=500.\n",
    "Again, we show centroids in favor of the full scatter plot to facilitate comparison.\n",
    "The circles, boxes, and stars correspond to δ=300, δ=500, and δ=750, respectively."
   ]
  },
  {
   "cell_type": "code",
   "execution_count": null,
   "metadata": {},
   "outputs": [],
   "source": [
    "data500 = pandas.read_csv('tables/phisigma-refr-centroids-delta500.tsv',sep='\\t')\n",
    "data300 = pandas.read_csv('tables/phisigma-refr-centroids-delta300.tsv',sep='\\t')\n",
    "data750 = pandas.read_csv('tables/phisigma-refr-centroids-delta750.tsv',sep='\\t')\n",
    "speciesnames = ['Saccharomyces cerevisiae', 'Caenorhabditis elegans',\n",
    "                'Chlamydomonas reinhardtii', 'Medicago truncatula',\n",
    "                'Drosophila melanogaster', 'Anopheles gambiae',\n",
    "                'Xenopus tropicalis', 'Danio rerio',\n",
    "                'Mus musculus', 'Homo sapiens']\n",
    "specieslist = ['Scer', 'Cele', 'Crei', 'Mtru', 'Dmel',\n",
    "               'Agam', 'Xtro', 'Drer', 'Mmus', 'Hsap']\n",
    "\n",
    "plots = list()\n",
    "palette = seaborn.color_palette(\"hls\", len(specieslist))\n",
    "for i, species in enumerate(specieslist):\n",
    "    phis = list()\n",
    "    sigmas = list()\n",
    "\n",
    "    specdata = data300.loc[(data300.Species == species)]\n",
    "    phis.append(list(specdata['Phi'])[0])\n",
    "    sigmas.append(list(specdata['Sigma'])[0])\n",
    "    plot = plt.scatter(specdata['Phi'], specdata['Sigma'], color=palette[i], s=128, alpha=0.25)\n",
    "    plot = plt.scatter(specdata['Phi'], specdata['Sigma'], color=palette[i], s=128, facecolor='none', lw=2)\n",
    "    #plots.append(plot)\n",
    "        \n",
    "    specdata = data500.loc[(data500.Species == species)]\n",
    "    phis.append(list(specdata['Phi'])[0])\n",
    "    sigmas.append(list(specdata['Sigma'])[0])\n",
    "    plot = plt.scatter(specdata['Phi'], specdata['Sigma'], color=palette[i], s=128, marker='s')\n",
    "    # ... use the delta500 marker for the legend:\n",
    "    plots.append(plot)\n",
    "\n",
    "    specdata = data750.loc[(data750.Species == species)]\n",
    "    phis.append(list(specdata['Phi'])[0])\n",
    "    sigmas.append(list(specdata['Sigma'])[0])\n",
    "    plot = plt.scatter(specdata['Phi'], specdata['Sigma'], color=palette[i], s=128, marker='*', lw=2)\n",
    "    #plots.append(plot)\n",
    "    plot = plt.plot(phis, sigmas, color=palette[i], alpha=0.5, ls=':')\n",
    "    \n",
    "_ = plt.xlim(-0.02, 1.02)\n",
    "_ = plt.ylim(-0.02, 1.02)\n",
    "_ = plt.xlabel('φ (Proportion of giLoci merged into miLoci)')\n",
    "_ = plt.ylabel('σ (Proportion of sequence occupied by miLoci)')\n",
    "_ = plt.legend(plots, speciesnames, scatterpoints=1,\n",
    "           loc='upper left',\n",
    "           ncol=2,\n",
    "           fontsize=12)\n",
    "#_ = plt.title('δ=300,500,750', fontsize=18)\n",
    "#_ = plt.show()\n",
    "plt.savefig('figures/LSB20GB-SuppFig5.png')"
   ]
  },
  {
   "cell_type": "code",
   "execution_count": null,
   "metadata": {},
   "outputs": [],
   "source": []
  }
 ],
 "metadata": {
  "kernelspec": {
   "display_name": "Python 3",
   "language": "python",
   "name": "python3"
  },
  "language_info": {
   "codemirror_mode": {
    "name": "ipython",
    "version": 3
   },
   "file_extension": ".py",
   "mimetype": "text/x-python",
   "name": "python",
   "nbconvert_exporter": "python",
   "pygments_lexer": "ipython3",
   "version": "3.6.7"
  }
 },
 "nbformat": 4,
 "nbformat_minor": 4
}
