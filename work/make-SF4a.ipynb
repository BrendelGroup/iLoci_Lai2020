{
 "cells": [
  {
   "cell_type": "code",
   "execution_count": null,
   "metadata": {},
   "outputs": [],
   "source": [
    "%matplotlib inline\n",
    "\n",
    "import glob\n",
    "import math\n",
    "import matplotlib\n",
    "import matplotlib.pyplot as plt\n",
    "import matplotlib.lines as ml\n",
    "import numpy\n",
    "import pandas\n",
    "import random\n",
    "import seaborn\n",
    "\n",
    "matplotlib.rcParams['axes.labelsize'] = 16\n",
    "matplotlib.rcParams['xtick.labelsize'] = 12\n",
    "matplotlib.rcParams['ytick.labelsize'] = 12\n",
    "matplotlib.rcParams['savefig.dpi'] = 300\n",
    "seaborn.set_context({\"figure.figsize\": (12, 8)})"
   ]
  },
  {
   "cell_type": "code",
   "execution_count": null,
   "metadata": {},
   "outputs": [],
   "source": [
    "def calc_rho(species, basedir='data'):\n",
    "    \"\"\"\n",
    "    Calculate \\rho, the proportion of iiLocus length to giLocus length, for a particular genome.\n",
    "    \"\"\"\n",
    "    files = ['{}/{}/{}.iloci.tsv'.format(basedir, s, s) for s in species]\n",
    "    data = pandas.concat([pandas.read_csv(f, sep='\\t') for f in files])\n",
    "    giloci = data.loc[data.LocusClass.isin(['siLocus', 'ciLocus', 'niLocus'])]\n",
    "    iiloci = data.loc[data.LocusClass.isin(['iiLocus'])]\n",
    "    quant = list(giloci['Length'].quantile([0.05, 0.95]))\n",
    "    giloci_q = giloci.loc[(giloci.Length >= quant[0]) & (giloci.Length <= quant[1])]\n",
    "    quant = list(iiloci['Length'].quantile([0.05, 0.95]))\n",
    "    iiloci_q = iiloci.loc[(iiloci.Length >= quant[0]) & (iiloci.Length <= quant[1])]\n",
    "    rho = iiloci_q['Length'].mean() / giloci_q['Length'].mean()\n",
    "    return rho"
   ]
  },
  {
   "cell_type": "code",
   "execution_count": null,
   "metadata": {},
   "outputs": [],
   "source": [
    "colors = ['#a6cee3', '#1f78b4', '#b2df8a', '#33a02c', '#cc33cc',\n",
    "          '#fb9a99', '#e31a1c', '#fdbf6f']\n",
    "\n",
    "def load_and_prep(filename, specieslist, index='Species'):\n",
    "    \"\"\"Boilerplate code: load data into memory\"\"\"\n",
    "    dataframe = pandas.read_csv(filename,sep='\\t')\n",
    "    df = dataframe[dataframe[index].isin(specieslist)]\n",
    "    df = df.set_index([index]).reindex(specieslist)\n",
    "    return df\n",
    "\n",
    "def make_barplot(dataframe, xlab=None, ylab=None, ylim=None, lloc=2,\n",
    "                 legend=True, yticks=None, yticklabs=None):\n",
    "    \"\"\"Biolerplate code: make a pretty barplot\"\"\"\n",
    "\n",
    "    plot = dataframe.plot(kind='bar', stacked=True, figsize=(15, 10),\n",
    "                          fontsize=16, rot=0, color=colors)\n",
    "    seaborn.despine(left=True)\n",
    "    if legend is True:\n",
    "        _ = plot.legend(loc=lloc, prop={'size': 16})\n",
    "    if xlab is not None:\n",
    "        _ = plt.xlabel(xlab)\n",
    "    if ylab is not None:\n",
    "        _ = plt.ylabel(ylab)\n",
    "    if ylim is not None:\n",
    "        _ = plot.set_ylim(ylim[0], ylim[1])\n",
    "    if yticks:\n",
    "        _ = plot.set_yticks(yticks)\n",
    "    if yticklabs:\n",
    "        _ = plot.set_yticklabels(yticklabs)\n",
    "    _ = plot.yaxis.label.set_fontsize(18)\n",
    "    "
   ]
  },
  {
   "cell_type": "code",
   "execution_count": null,
   "metadata": {},
   "outputs": [],
   "source": [
    "speciesnames = ['Volvox carteri', 'Chlamydomonas reinhardtii',\n",
    "                'Chlorella variabilis', 'Coccomyxa subellipsoidea', 'Micromonas commoda',\n",
    "                'Ostreococcus lucimarinus']\n",
    "specieslist = ['Vcar', 'Crei', 'Cvar', 'Csub', 'Mcom', 'Oluc']\n",
    "palette = seaborn.color_palette(\"hls\", len(speciesnames))\n",
    "# This is using an outdated directory structure. \n",
    "#rho = calc_rho(specieslist, basedir='scratch/chlorophyta/species')\n",
    "rho = calc_rho(specieslist)\n",
    "\n",
    "data = pandas.read_csv('tables/phisigma-Vcar.tsv',sep='\\t')\n",
    "plots = list()\n",
    "for i, species in enumerate(specieslist):\n",
    "    # Uncomment and edit the next two lines if you want to exclude/restrict the plot\n",
    "    # if species in ['Vcar']:\n",
    "    #    continue\n",
    "    specdata = data.loc[(data.Species == species)]\n",
    "    plot = plt.scatter(specdata['Phi'], specdata['Sigma'], color=palette[i])\n",
    "    plots.append(plot)\n",
    "    x = [k / 1000 for k in range(1000)]\n",
    "    y = [(k/(1+(1-k)*rho)) for k in x]\n",
    "    _ = plt.plot(x, y, color='#cccccc')\n",
    "_ = plt.xlim(-0.02, 1.02)\n",
    "_ = plt.ylim(-0.02, 1.02)\n",
    "_ = plt.xlabel('φ (Proportion of giLoci merged into miLoci)')\n",
    "_ = plt.ylabel('σ (Proportion of sequence occupied by miLoci)')\n",
    "_ = plt.legend(plots, speciesnames, scatterpoints=1,\n",
    "           loc='upper left',\n",
    "           ncol=2,\n",
    "           fontsize=12)\n",
    "plt.savefig('figures/LSB20GB-SuppFig4a.png')"
   ]
  },
  {
   "cell_type": "code",
   "execution_count": null,
   "metadata": {},
   "outputs": [],
   "source": [
    "specieslist = ['Apro','Cvar','Csub','Mcom',\n",
    "               'Mpus','Oluc','Otau','Crei','Vcar']\n",
    "bd_bp = load_and_prep('chlorophyta/Chlorophyta-breakdown-bp.tsv', specieslist)\n",
    "bd_counts = load_and_prep('chlorophyta/Chlorophyta-breakdown-counts.tsv', specieslist)\n",
    "make_barplot(bd_counts, xlab='', ylim=(0, 2.5e4),\n",
    "             ylab='Total iLocus Count')\n",
    "make_barplot(bd_bp, xlab='', ylim=(0, 1.5e8),\n",
    "             yticks=[2.5e7 * x for x in [0,1,2,3,4,5,6]],\n",
    "             yticklabs=['0', '25', '50', '75', '100', '125', '150'],\n",
    "             ylab='Genome Size (Mb)')"
   ]
  },
  {
   "cell_type": "code",
   "execution_count": null,
   "metadata": {},
   "outputs": [],
   "source": []
  }
 ],
 "metadata": {
  "kernelspec": {
   "display_name": "Python 3",
   "language": "python",
   "name": "python3"
  },
  "language_info": {
   "codemirror_mode": {
    "name": "ipython",
    "version": 3
   },
   "file_extension": ".py",
   "mimetype": "text/x-python",
   "name": "python",
   "nbconvert_exporter": "python",
   "pygments_lexer": "ipython3",
   "version": "3.7.6"
  }
 },
 "nbformat": 4,
 "nbformat_minor": 4
}
