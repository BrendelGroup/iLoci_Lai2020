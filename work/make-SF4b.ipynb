{
 "cells": [
  {
   "cell_type": "code",
   "execution_count": null,
   "metadata": {},
   "outputs": [],
   "source": [
    "%matplotlib inline\n",
    "\n",
    "# Boilerplate code: set up the environment\n",
    "import matplotlib\n",
    "import matplotlib.pyplot as plt\n",
    "import pandas\n",
    "import scipy\n",
    "import seaborn\n",
    "colors = ['#a6cee3', '#1f78b4', '#b2df8a', '#33a02c', '#cc33cc',\n",
    "          '#fb9a99', '#e31a1c', '#fdbf6f']\n",
    "matplotlib.rcParams['savefig.dpi'] = 300\n",
    "seaborn.set_context({\"figure.figsize\": (15, 10)})"
   ]
  },
  {
   "cell_type": "code",
   "execution_count": null,
   "metadata": {},
   "outputs": [],
   "source": [
    "def load_and_prep(filename, specieslist, index='Species'):\n",
    "    \"\"\"Boilerplate code: load data into memory\"\"\"\n",
    "    dataframe = pandas.read_csv(filename,sep='\\t')\n",
    "    df = dataframe[dataframe[index].isin(specieslist)]\n",
    "    df = df.set_index([index]).reindex(specieslist)\n",
    "    return df"
   ]
  },
  {
   "cell_type": "code",
   "execution_count": null,
   "metadata": {},
   "outputs": [],
   "source": [
    "def calc_rho(species, basedir='data'):\n",
    "    \"\"\"\n",
    "    Calculate \\rho, the proportion of iiLocus length to giLocus length, for a particular genome.\n",
    "    \"\"\"\n",
    "    files = ['{}/{}/{}.iloci.tsv'.format(basedir, s, s) for s in species]\n",
    "    data = pandas.concat([pandas.read_csv(f,sep='\\t') for f in files])\n",
    "    giloci = data.loc[data.LocusClass.isin(['siLocus', 'ciLocus', 'niLocus'])]\n",
    "    iiloci = data.loc[data.LocusClass.isin(['iiLocus'])]\n",
    "    quant = list(giloci['Length'].quantile([0.05, 0.95]))\n",
    "    giloci_q = giloci.loc[(giloci.Length >= quant[0]) & (giloci.Length <= quant[1])]\n",
    "    quant = list(iiloci['Length'].quantile([0.05, 0.95]))\n",
    "    iiloci_q = iiloci.loc[(iiloci.Length >= quant[0]) & (iiloci.Length <= quant[1])]\n",
    "    rho = iiloci_q['Length'].mean() / giloci_q['Length'].mean()\n",
    "    return rho"
   ]
  },
  {
   "cell_type": "code",
   "execution_count": null,
   "metadata": {},
   "outputs": [],
   "source": [
    "matplotlib.rcParams['axes.labelsize'] = 16\n",
    "matplotlib.rcParams['xtick.labelsize'] = 12\n",
    "matplotlib.rcParams['ytick.labelsize'] = 12\n",
    "seaborn.set_context({\"figure.figsize\": (12, 8)})\n",
    "\n",
    "speciesnames = ['Apis mellifera', 'Bombus terrestris',\n",
    "                'Camponotus floridanus', 'Harpegnathos saltator',\n",
    "                'Polistes canadensis', 'Polistes dominula',\n",
    "                'Nasonia vitripennis']\n",
    "specieslist = ['Amh3', 'Bter', 'Cflo', 'Hsal', 'Pcan', 'Pdom', 'Nvit']\n",
    "palette = seaborn.color_palette(\"hls\", len(specieslist))\n",
    "\n",
    "for filename in ['tables/phisigma-Pdom-min1Mb.tsv', 'tables/phisigma-Pdom-min2Mb.tsv', 'tables/phisigma-Pdom-min3Mb.tsv']:\n",
    "    data = pandas.read_csv(filename,'\\t')\n",
    "    plots = list()\n",
    "    for i, species in enumerate(specieslist):\n",
    "        specdata = data.loc[(data.Species == species)]\n",
    "        plot = plt.scatter(specdata['Phi'], specdata['Sigma'], color=palette[i])\n",
    "        plots.append(plot)\n",
    "    _ = plt.xlim(-0.02, 1.02)\n",
    "    _ = plt.ylim(-0.02, 1.02)\n",
    "    _ = plt.xlabel('φ (Proportion of giLoci merged into miLoci)')\n",
    "    _ = plt.ylabel('σ (Proportion of sequence occupied by miLoci)')\n",
    "    _ = plt.legend(plots, speciesnames, scatterpoints=1,\n",
    "               loc='upper left',\n",
    "               ncol=2,\n",
    "               fontsize=12)\n",
    "    _ = plt.show()"
   ]
  },
  {
   "cell_type": "code",
   "execution_count": null,
   "metadata": {},
   "outputs": [],
   "source": [
    "speciesnames = ['Polistes dominula', 'Anopheles gambiae', 'Drosophila melanogaster',\n",
    "                'Apis mellifera', 'Acromyrmex echinatior', 'Nasonia vitripennis']\n",
    "specieslist = ['Pdom', 'Agam', 'Dmel', 'Amh3', 'Aech', 'Nvit']\n",
    "palette = seaborn.color_palette(\"hls\", len(specieslist))\n",
    "rho = calc_rho(specieslist, basedir='data')\n",
    "\n",
    "data = pandas.read_csv('tables/phisigma-Pdom-min2Mb.tsv',sep='\\t')\n",
    "plots = list()\n",
    "for i, species in enumerate(specieslist):\n",
    "    specdata = data.loc[(data.Species == species)]\n",
    "    plot = plt.scatter(specdata['Phi'], specdata['Sigma'], color=palette[i])\n",
    "    plots.append(plot)\n",
    "    x = [k / 1000 for k in range(1000)]\n",
    "    y = [(k/(1+(1-k)*rho)) for k in x]\n",
    "    _ = plt.plot(x, y, color='#cccccc')\n",
    "_ = plt.xlim(-0.02, 1.02)\n",
    "_ = plt.ylim(-0.02, 1.02)\n",
    "_ = plt.xlabel('φ (Proportion of giLoci merged into miLoci)')\n",
    "_ = plt.ylabel('σ (Proportion of sequence occupied by miLoci)')\n",
    "_ = plt.legend(plots, speciesnames, scatterpoints=1,\n",
    "           loc='upper left',\n",
    "           ncol=2,\n",
    "           fontsize=12)\n",
    "plt.savefig('figures/LSB20GB-SuppFig4b.png')"
   ]
  },
  {
   "cell_type": "code",
   "execution_count": null,
   "metadata": {},
   "outputs": [],
   "source": []
  }
 ],
 "metadata": {
  "kernelspec": {
   "display_name": "Python 3",
   "language": "python",
   "name": "python3"
  },
  "language_info": {
   "codemirror_mode": {
    "name": "ipython",
    "version": 3
   },
   "file_extension": ".py",
   "mimetype": "text/x-python",
   "name": "python",
   "nbconvert_exporter": "python",
   "pygments_lexer": "ipython3",
   "version": "3.7.6"
  }
 },
 "nbformat": 4,
 "nbformat_minor": 4
}
