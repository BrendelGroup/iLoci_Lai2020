{
 "cells": [
  {
   "cell_type": "code",
   "execution_count": null,
   "metadata": {},
   "outputs": [],
   "source": [
    "%matplotlib inline\n",
    "\n",
    "import matplotlib\n",
    "import pandas as pd\n",
    "import matplotlib.pyplot as plt\n",
    "import seaborn\n",
    "\n",
    "matplotlib.rcParams['axes.labelsize'] = 16\n",
    "matplotlib.rcParams['xtick.labelsize'] = 12\n",
    "matplotlib.rcParams['ytick.labelsize'] = 12\n",
    "matplotlib.rcParams['savefig.dpi'] = 300\n",
    "seaborn.set_context({\"figure.figsize\": (15, 10)})"
   ]
  },
  {
   "cell_type": "code",
   "execution_count": null,
   "metadata": {},
   "outputs": [],
   "source": [
    "specieslist = ['Scer', 'Cele', 'Crei', 'Mtru', 'Dmel',\n",
    "               'Agam', 'Xtro', 'Drer', 'Mmus', 'Hsap',\n",
    "               'Vcar', 'Pdom', 'Dpul', 'Mvit']"
   ]
  },
  {
   "cell_type": "code",
   "execution_count": null,
   "metadata": {},
   "outputs": [],
   "source": [
    "files = ['data/{}/{}.iloci.tsv'.format(s, s) for s in specieslist]\n",
    "silgth = []\n",
    "for f in files:\n",
    "    data = pd.read_csv(f, sep='\\t')\n",
    "    siloci = data.loc[data.LocusClass.isin(['siLocus'])]\n",
    "    silgth.append(siloci.Length)\n",
    "plt.boxplot(silgth, labels = specieslist, showfliers = False)\n",
    "plt.ylabel('siLocus Length (bp)')\n",
    "plt.yscale('log')\n",
    "plt.savefig('figures/LSB20GB-SuppFig1.png')"
   ]
  },
  {
   "cell_type": "code",
   "execution_count": null,
   "metadata": {},
   "outputs": [],
   "source": []
  }
 ],
 "metadata": {
  "kernelspec": {
   "display_name": "Python 3",
   "language": "python",
   "name": "python3"
  },
  "language_info": {
   "codemirror_mode": {
    "name": "ipython",
    "version": 3
   },
   "file_extension": ".py",
   "mimetype": "text/x-python",
   "name": "python",
   "nbconvert_exporter": "python",
   "pygments_lexer": "ipython3",
   "version": "3.6.7"
  }
 },
 "nbformat": 4,
 "nbformat_minor": 4
}
